{
 "cells": [
  {
   "cell_type": "markdown",
   "metadata": {},
   "source": [
    "**RFM анализ**"
   ]
  },
  {
   "cell_type": "code",
   "execution_count": 1,
   "metadata": {},
   "outputs": [],
   "source": [
    "import pandas as pd\n",
    "from datetime import datetime\n",
    "import matplotlib\n",
    "\n",
    "import matplotlib.pyplot as plt\n",
    "import seaborn as sns\n",
    "%matplotlib inline\n",
    "\n",
    "import numpy as np"
   ]
  },
  {
   "cell_type": "code",
   "execution_count": 2,
   "metadata": {},
   "outputs": [],
   "source": [
    "matplotlib.rcParams['figure.figsize'] =  [12.0, 8.0]"
   ]
  },
  {
   "cell_type": "code",
   "execution_count": 3,
   "metadata": {},
   "outputs": [],
   "source": [
    "to_datetime = lambda d: datetime.strptime(d, '%d.%m.%Y')"
   ]
  },
  {
   "cell_type": "markdown",
   "metadata": {},
   "source": [
    "Проведем RFM анализ клиентов федерального интернет-магазина детских товаров на основе измененных, но приближенных к реальности данных, которые были предоставлены нв рамках обучения на портале GeekBrains. "
   ]
  },
  {
   "cell_type": "code",
   "execution_count": null,
   "metadata": {},
   "outputs": [],
   "source": [
    "#Загрузим данные с учетом разделителя и типа данных для дат"
   ]
  },
  {
   "cell_type": "code",
   "execution_count": 4,
   "metadata": {},
   "outputs": [],
   "source": [
    "df_0 = pd.read_csv('orders_20190822.csv', sep=';', encoding='utf-8', decimal = ',', converters={'o_date': to_datetime})"
   ]
  },
  {
   "cell_type": "code",
   "execution_count": 5,
   "metadata": {},
   "outputs": [
    {
     "name": "stdout",
     "output_type": "stream",
     "text": [
      "<class 'pandas.core.frame.DataFrame'>\n",
      "RangeIndex: 2002804 entries, 0 to 2002803\n",
      "Data columns (total 4 columns):\n",
      "id_o       int64\n",
      "user_id    int64\n",
      "price      float64\n",
      "o_date     datetime64[ns]\n",
      "dtypes: datetime64[ns](1), float64(1), int64(2)\n",
      "memory usage: 61.1 MB\n"
     ]
    }
   ],
   "source": [
    "df_0.info()"
   ]
  },
  {
   "cell_type": "code",
   "execution_count": 6,
   "metadata": {},
   "outputs": [
    {
     "data": {
      "text/plain": [
       "id_o       2002804\n",
       "user_id    1015119\n",
       "price        30571\n",
       "o_date         731\n",
       "dtype: int64"
      ]
     },
     "execution_count": 6,
     "metadata": {},
     "output_type": "execute_result"
    }
   ],
   "source": [
    "#Посмотрим уникальные значения в каждой колонке\n",
    "df_0.nunique()"
   ]
  },
  {
   "cell_type": "code",
   "execution_count": 7,
   "metadata": {},
   "outputs": [
    {
     "data": {
      "text/plain": [
       "id_o       0\n",
       "user_id    0\n",
       "price      0\n",
       "o_date     0\n",
       "dtype: int64"
      ]
     },
     "execution_count": 7,
     "metadata": {},
     "output_type": "execute_result"
    }
   ],
   "source": [
    "#Проверим, есть ли незаполненные данные\n",
    "df_0.isnull().sum()"
   ]
  },
  {
   "cell_type": "code",
   "execution_count": 8,
   "metadata": {},
   "outputs": [
    {
     "data": {
      "text/plain": [
       "id_o                int64\n",
       "user_id             int64\n",
       "price             float64\n",
       "o_date     datetime64[ns]\n",
       "dtype: object"
      ]
     },
     "execution_count": 8,
     "metadata": {},
     "output_type": "execute_result"
    }
   ],
   "source": [
    "df_0.dtypes"
   ]
  },
  {
   "cell_type": "code",
   "execution_count": 9,
   "metadata": {},
   "outputs": [],
   "source": [
    "#изменим название price на более точное название sales\n",
    "df_0.columns = ['sales' if x=='price' else x for x in df_0.columns]"
   ]
  },
  {
   "cell_type": "code",
   "execution_count": 10,
   "metadata": {},
   "outputs": [
    {
     "data": {
      "text/html": [
       "<div>\n",
       "<style scoped>\n",
       "    .dataframe tbody tr th:only-of-type {\n",
       "        vertical-align: middle;\n",
       "    }\n",
       "\n",
       "    .dataframe tbody tr th {\n",
       "        vertical-align: top;\n",
       "    }\n",
       "\n",
       "    .dataframe thead th {\n",
       "        text-align: right;\n",
       "    }\n",
       "</style>\n",
       "<table border=\"1\" class=\"dataframe\">\n",
       "  <thead>\n",
       "    <tr style=\"text-align: right;\">\n",
       "      <th></th>\n",
       "      <th>id_o</th>\n",
       "      <th>user_id</th>\n",
       "      <th>sales</th>\n",
       "      <th>o_date</th>\n",
       "    </tr>\n",
       "  </thead>\n",
       "  <tbody>\n",
       "    <tr>\n",
       "      <th>0</th>\n",
       "      <td>1234491</td>\n",
       "      <td>337544</td>\n",
       "      <td>539.0</td>\n",
       "      <td>2016-01-01</td>\n",
       "    </tr>\n",
       "    <tr>\n",
       "      <th>1</th>\n",
       "      <td>1234494</td>\n",
       "      <td>171642</td>\n",
       "      <td>153.3</td>\n",
       "      <td>2016-01-01</td>\n",
       "    </tr>\n",
       "    <tr>\n",
       "      <th>2</th>\n",
       "      <td>1234497</td>\n",
       "      <td>260596</td>\n",
       "      <td>55.3</td>\n",
       "      <td>2016-01-01</td>\n",
       "    </tr>\n",
       "    <tr>\n",
       "      <th>3</th>\n",
       "      <td>1234498</td>\n",
       "      <td>1105609</td>\n",
       "      <td>752.5</td>\n",
       "      <td>2016-01-01</td>\n",
       "    </tr>\n",
       "    <tr>\n",
       "      <th>4</th>\n",
       "      <td>1234500</td>\n",
       "      <td>982696</td>\n",
       "      <td>4410.0</td>\n",
       "      <td>2016-01-01</td>\n",
       "    </tr>\n",
       "  </tbody>\n",
       "</table>\n",
       "</div>"
      ],
      "text/plain": [
       "      id_o  user_id   sales     o_date\n",
       "0  1234491   337544   539.0 2016-01-01\n",
       "1  1234494   171642   153.3 2016-01-01\n",
       "2  1234497   260596    55.3 2016-01-01\n",
       "3  1234498  1105609   752.5 2016-01-01\n",
       "4  1234500   982696  4410.0 2016-01-01"
      ]
     },
     "execution_count": 10,
     "metadata": {},
     "output_type": "execute_result"
    }
   ],
   "source": [
    "df_0.head()"
   ]
  },
  {
   "cell_type": "markdown",
   "metadata": {},
   "source": [
    "**Поиск аномалий**"
   ]
  },
  {
   "cell_type": "code",
   "execution_count": null,
   "metadata": {},
   "outputs": [],
   "source": [
    "#Оценим данные с точки зрения аномалии в сумме закупок. "
   ]
  },
  {
   "cell_type": "code",
   "execution_count": 11,
   "metadata": {},
   "outputs": [
    {
     "data": {
      "text/plain": [
       "<matplotlib.axes._subplots.AxesSubplot at 0x1a240428d0>"
      ]
     },
     "execution_count": 11,
     "metadata": {},
     "output_type": "execute_result"
    },
    {
     "data": {
      "image/png": "[encoded data removed]",
      "text/plain": [
       "<Figure size 864x576 with 1 Axes>"
      ]
     },
     "metadata": {
      "needs_background": "light"
     },
     "output_type": "display_data"
    }
   ],
   "source": [
    "df_0['sales'].plot(grid = True)"
   ]
  },
  {
   "cell_type": "code",
   "execution_count": 12,
   "metadata": {},
   "outputs": [
    {
     "data": {
      "text/plain": [
       "<matplotlib.axes._subplots.AxesSubplot at 0x1a295c4ac8>"
      ]
     },
     "execution_count": 12,
     "metadata": {},
     "output_type": "execute_result"
    },
    {
     "data": {
      "image/png": "[encoded data removed]",
      "text/plain": [
       "<Figure size 864x576 with 1 Axes>"
      ]
     },
     "metadata": {
      "needs_background": "light"
     },
     "output_type": "display_data"
    }
   ],
   "source": [
    "plt.figure(figsize=(12,8))\n",
    "sns.distplot(df_0.sales, kde=False,color='g',bins=30)"
   ]
  },
  {
   "cell_type": "code",
   "execution_count": 13,
   "metadata": {},
   "outputs": [
    {
     "data": {
      "text/plain": [
       "<matplotlib.axes._subplots.AxesSubplot at 0x1a491c9940>"
      ]
     },
     "execution_count": 13,
     "metadata": {},
     "output_type": "execute_result"
    },
    {
     "data": {
      "image/png": "[encoded data removed]",
      "text/plain": [
       "<Figure size 864x576 with 1 Axes>"
      ]
     },
     "metadata": {
      "needs_background": "light"
     },
     "output_type": "display_data"
    }
   ],
   "source": [
    "df_0.boxplot(column=\"sales\")"
   ]
  },
  {
   "cell_type": "markdown",
   "metadata": {},
   "source": [
    "Очевидно, что есть сильные аномалии по сумме закупок свыше 150000 рублей, которые не характерны для всей совокупности. Избавимся от этих выбросов, чтобы они не искажали результаты RFM анализа."
   ]
  },
  {
   "cell_type": "code",
   "execution_count": 14,
   "metadata": {},
   "outputs": [],
   "source": [
    "df = df_0.loc[(df_0['sales'] <=150000)]"
   ]
  },
  {
   "cell_type": "code",
   "execution_count": 15,
   "metadata": {},
   "outputs": [
    {
     "data": {
      "text/plain": [
       "20"
      ]
     },
     "execution_count": 15,
     "metadata": {},
     "output_type": "execute_result"
    }
   ],
   "source": [
    "#Сколько покупок мы потеряли? \n",
    "len(df_0) - len(df)"
   ]
  },
  {
   "cell_type": "code",
   "execution_count": 16,
   "metadata": {},
   "outputs": [
    {
     "name": "stdout",
     "output_type": "stream",
     "text": [
      "<class 'pandas.core.frame.DataFrame'>\n",
      "Int64Index: 2002784 entries, 0 to 2002803\n",
      "Data columns (total 4 columns):\n",
      "id_o       int64\n",
      "user_id    int64\n",
      "sales      float64\n",
      "o_date     datetime64[ns]\n",
      "dtypes: datetime64[ns](1), float64(1), int64(2)\n",
      "memory usage: 76.4 MB\n"
     ]
    }
   ],
   "source": [
    "df.info()"
   ]
  },
  {
   "cell_type": "markdown",
   "metadata": {},
   "source": [
    "Как наши данные меняются по сумме и количеству закупок в течение 2-х лет"
   ]
  },
  {
   "cell_type": "code",
   "execution_count": 17,
   "metadata": {},
   "outputs": [],
   "source": [
    "#сделаем дату нашим индексом \n",
    "df = df.set_index('o_date')"
   ]
  },
  {
   "cell_type": "code",
   "execution_count": 18,
   "metadata": {},
   "outputs": [],
   "source": [
    "df['year'] = df.index.year"
   ]
  },
  {
   "cell_type": "code",
   "execution_count": 19,
   "metadata": {},
   "outputs": [],
   "source": [
    "df['month'] = df.index.month"
   ]
  },
  {
   "cell_type": "code",
   "execution_count": 20,
   "metadata": {},
   "outputs": [
    {
     "data": {
      "text/plain": [
       "Text(0.5, 1.0, 'Динамика количества покупок в течение 2-х лет')"
      ]
     },
     "execution_count": 20,
     "metadata": {},
     "output_type": "execute_result"
    },
    {
     "data": {
      "image/png": "[encoded data removed]",
      "text/plain": [
       "<Figure size 864x576 with 1 Axes>"
      ]
     },
     "metadata": {
      "needs_background": "light"
     },
     "output_type": "display_data"
    }
   ],
   "source": [
    "df['sales'].groupby(by=[df.year,df.month]).count().plot(grid = True)\n",
    "plt.title('Динамика количества покупок в течение 2-х лет', fontsize = 14)"
   ]
  },
  {
   "cell_type": "code",
   "execution_count": 21,
   "metadata": {},
   "outputs": [
    {
     "data": {
      "text/plain": [
       "<matplotlib.axes._subplots.AxesSubplot at 0x1108ac240>"
      ]
     },
     "execution_count": 21,
     "metadata": {},
     "output_type": "execute_result"
    },
    {
     "data": {
      "image/png": "[encoded data removed]",
      "text/plain": [
       "<Figure size 864x576 with 1 Axes>"
      ]
     },
     "metadata": {
      "needs_background": "light"
     },
     "output_type": "display_data"
    }
   ],
   "source": [
    "plt.title('Динамика суммы покупок в течение 2-х лет, 1 ед. = 100 млн. рублей', fontsize = 14)\n",
    "df['sales'].groupby(by=[df.year,df.month]).sum().plot(grid = True)"
   ]
  },
  {
   "cell_type": "markdown",
   "metadata": {},
   "source": [
    "**RFM анализ**\n",
    "\n",
    "Проведем анализ клиентской базы на основании лояльности по следующим критериям:\n",
    "\n",
    "R = Recency, давность последней покупки клиента <br>\n",
    "F = Frequency, частота (общее количество) покупок клиента <br>\n",
    "M = Monetary, сумма денег, потраченных клиентом <br>\n",
    "\n",
    "В нашем случае: \n",
    "\n",
    "1) **Recency - давность** <br>\n",
    "\n",
    "R = 1, если количество дней последней покупки > 60<br>\n",
    "R = 2, если количество дней последней покупки > 30 и <=60<br>\n",
    "R = 3, если количество дней последней покупки <= 30<br>\n",
    "\n",
    "2) **Frequency - частота** <br>\n",
    "\n",
    "F = 1, если общее количество покупок = 1 <br>\n",
    "F = 2, если общее количество покупок > 1 и <= 4 <br>\n",
    "F = 3, если общее количество покупок > 4<br>\n",
    "\n",
    "2) **Monetary- сумма денег** <br>\n",
    "\n",
    "F = 1, если общая сумма покупок <=5000 рублей <br>\n",
    "F = 2, если общая сумма покупок > 5000 и <=15000 рублей <br>\n",
    "F = 3, если общая сумма покупок > 15000 рублей<br>"
   ]
  },
  {
   "cell_type": "markdown",
   "metadata": {},
   "source": [
    "***Recency - расчет давности покупок***"
   ]
  },
  {
   "cell_type": "code",
   "execution_count": 22,
   "metadata": {},
   "outputs": [],
   "source": [
    "rec_dict ={}\n",
    "latest_date = df.tail(1).index[0] #последняя дата покупки \n",
    "\n",
    "for i, v in df.iterrows():\n",
    "    difference_time = latest_date - i\n",
    "    user_id = v['user_id']\n",
    "    \n",
    "    if difference_time.days <=30:\n",
    "        rec_dict[user_id] = 1\n",
    "    if (difference_time.days >30 and difference_time.days <=60 and rec_dict.get(user_id)==None):\n",
    "        rec_dict[user_id] = 2\n",
    "    elif (difference_time.days >60 and rec_dict.get(user_id)==None):\n",
    "        rec_dict[user_id] = 3"
   ]
  },
  {
   "cell_type": "markdown",
   "metadata": {},
   "source": [
    "***Monetary - расчет суммы денег, потраченных клиентом***"
   ]
  },
  {
   "cell_type": "code",
   "execution_count": 23,
   "metadata": {},
   "outputs": [],
   "source": [
    "rfm_df = df[['user_id', 'sales']].groupby('user_id').sum().reset_index()"
   ]
  },
  {
   "cell_type": "code",
   "execution_count": 24,
   "metadata": {},
   "outputs": [],
   "source": [
    "mon_dict = {} #сумма всех покупок по каждому уникальному пользователю \n",
    "for i, v in rfm_df.iterrows():\n",
    "    user_id = v['user_id'] \n",
    "    revenue_user = v['sales'] \n",
    "    if revenue_user  <= 5000:\n",
    "        mon_dict[user_id ] = '1'\n",
    "    elif (revenue_user > 5000 and revenue_user <=15000):\n",
    "        mon_dict[user_id ] = '2'\n",
    "    else:\n",
    "        mon_dict[user_id ] = '3'"
   ]
  },
  {
   "cell_type": "markdown",
   "metadata": {},
   "source": [
    "***Frequancy - расчет количесто покупок на одного клиента или их частоты***"
   ]
  },
  {
   "cell_type": "code",
   "execution_count": 25,
   "metadata": {},
   "outputs": [],
   "source": [
    "rfm_df_count = df[['user_id', 'sales']].groupby('user_id').count().reset_index()"
   ]
  },
  {
   "cell_type": "code",
   "execution_count": 26,
   "metadata": {},
   "outputs": [],
   "source": [
    "freq_dict = {} #количество всех покупок по каждому уникальному пользователю \n",
    "for i, v in rfm_df_count.iterrows():\n",
    "    user_id = v['user_id'] \n",
    "    count_user = v['sales'] \n",
    "    if count_user ==1:\n",
    "        freq_dict[user_id ] = '1'\n",
    "    elif (count_user > 1 and count_user  <=4):\n",
    "        freq_dict[user_id ] = '2'\n",
    "    else:\n",
    "        freq_dict[user_id ] = '3'"
   ]
  },
  {
   "cell_type": "code",
   "execution_count": 27,
   "metadata": {},
   "outputs": [],
   "source": [
    "#Добавляем колонки monetary, recency, frequency в новый dataframe\n",
    "rfm_df['recency'] = rfm_df['user_id'].map(rec_dict)\n",
    "rfm_df['freq'] = rfm_df['user_id'].map(freq_dict)\n",
    "rfm_df['monetary'] = rfm_df['user_id'].map(mon_dict)"
   ]
  },
  {
   "cell_type": "code",
   "execution_count": 28,
   "metadata": {},
   "outputs": [],
   "source": [
    "#Соединяем комбинации RFM в отдельный столбец\n",
    "rfm_df['rfm'] = rfm_df.recency.astype(str) + rfm_df.freq   + rfm_df.monetary "
   ]
  },
  {
   "cell_type": "code",
   "execution_count": 29,
   "metadata": {},
   "outputs": [
    {
     "data": {
      "text/html": [
       "<div>\n",
       "<style scoped>\n",
       "    .dataframe tbody tr th:only-of-type {\n",
       "        vertical-align: middle;\n",
       "    }\n",
       "\n",
       "    .dataframe tbody tr th {\n",
       "        vertical-align: top;\n",
       "    }\n",
       "\n",
       "    .dataframe thead th {\n",
       "        text-align: right;\n",
       "    }\n",
       "</style>\n",
       "<table border=\"1\" class=\"dataframe\">\n",
       "  <thead>\n",
       "    <tr style=\"text-align: right;\">\n",
       "      <th></th>\n",
       "      <th>user_id</th>\n",
       "      <th>sales</th>\n",
       "      <th>recency</th>\n",
       "      <th>freq</th>\n",
       "      <th>monetary</th>\n",
       "      <th>rfm</th>\n",
       "    </tr>\n",
       "  </thead>\n",
       "  <tbody>\n",
       "    <tr>\n",
       "      <th>0</th>\n",
       "      <td>0</td>\n",
       "      <td>494.2</td>\n",
       "      <td>3</td>\n",
       "      <td>1</td>\n",
       "      <td>1</td>\n",
       "      <td>311</td>\n",
       "    </tr>\n",
       "    <tr>\n",
       "      <th>1</th>\n",
       "      <td>1</td>\n",
       "      <td>13844.6</td>\n",
       "      <td>3</td>\n",
       "      <td>2</td>\n",
       "      <td>2</td>\n",
       "      <td>322</td>\n",
       "    </tr>\n",
       "    <tr>\n",
       "      <th>2</th>\n",
       "      <td>76</td>\n",
       "      <td>1863.4</td>\n",
       "      <td>3</td>\n",
       "      <td>2</td>\n",
       "      <td>1</td>\n",
       "      <td>321</td>\n",
       "    </tr>\n",
       "    <tr>\n",
       "      <th>3</th>\n",
       "      <td>90</td>\n",
       "      <td>6561.8</td>\n",
       "      <td>1</td>\n",
       "      <td>2</td>\n",
       "      <td>2</td>\n",
       "      <td>122</td>\n",
       "    </tr>\n",
       "    <tr>\n",
       "      <th>4</th>\n",
       "      <td>91</td>\n",
       "      <td>5413.1</td>\n",
       "      <td>3</td>\n",
       "      <td>2</td>\n",
       "      <td>2</td>\n",
       "      <td>322</td>\n",
       "    </tr>\n",
       "  </tbody>\n",
       "</table>\n",
       "</div>"
      ],
      "text/plain": [
       "   user_id    sales  recency freq monetary  rfm\n",
       "0        0    494.2        3    1        1  311\n",
       "1        1  13844.6        3    2        2  322\n",
       "2       76   1863.4        3    2        1  321\n",
       "3       90   6561.8        1    2        2  122\n",
       "4       91   5413.1        3    2        2  322"
      ]
     },
     "execution_count": 29,
     "metadata": {},
     "output_type": "execute_result"
    }
   ],
   "source": [
    "rfm_df.head()"
   ]
  },
  {
   "cell_type": "markdown",
   "metadata": {},
   "source": [
    "Разобъем базу клиентов на 3 группы и посмотрим % товароооборота, которые они сделали за 2 года:\n",
    "    \n",
    "Уходящие клиенты <br>\n",
    "[111, 121, 131, 121, 122, 123, 131, 132, 133]\n",
    "\n",
    "Спящие клиенты <br>\n",
    "[211, 212, 213, 221, 222, 223, 231, 232, 233]\n",
    "\n",
    "Постоянные клиенты <br>\n",
    "[311, 312, 313, 321, 322, 323, 331, 332, 333]"
   ]
  },
  {
   "cell_type": "markdown",
   "metadata": {},
   "source": [
    "Оценим объем продаж по сегментам"
   ]
  },
  {
   "cell_type": "code",
   "execution_count": 30,
   "metadata": {},
   "outputs": [],
   "source": [
    "loosing = ['111', '112', '113', '121', '122', '123', '131', '132', '133']\n",
    "sleeping = ['211', '212', '213', '221', '222', '223', '231', '232', '233']\n",
    "regular = ['311', '312', '313', '321', '322', '323', '331', '332', '333']"
   ]
  },
  {
   "cell_type": "code",
   "execution_count": 31,
   "metadata": {},
   "outputs": [],
   "source": [
    "#Функция расчет объема продаж и количества покупок в сегментах\n",
    "def sum_count_segment (rfm_segment:list, df): \n",
    "    segment_sum = 0\n",
    "    segment_count = 0\n",
    "    for i in rfm_segment:\n",
    "        sum_ = rfm_df['sales'].loc[(rfm_df['rfm'] == i)].sum()\n",
    "        count_ = rfm_df['sales'].loc[(rfm_df['rfm'] == i)].count()\n",
    "        segment_sum  += sum_\n",
    "        segment_count += count_\n",
    "    return segment_count, segment_sum.round(1)"
   ]
  },
  {
   "cell_type": "code",
   "execution_count": 32,
   "metadata": {},
   "outputs": [],
   "source": [
    "#Уходящие клиенты\n",
    "loosing_count, loosing_sum = sum_count_segment (loosing , rfm_df)"
   ]
  },
  {
   "cell_type": "code",
   "execution_count": 33,
   "metadata": {},
   "outputs": [],
   "source": [
    "#Спящие клиенты\n",
    "sleeping_count, sleeping_sum = sum_count_segment (sleeping , rfm_df)"
   ]
  },
  {
   "cell_type": "code",
   "execution_count": 34,
   "metadata": {},
   "outputs": [],
   "source": [
    "#Постоянные клиенты\n",
    "regular_count, regular_sum = sum_count_segment (regular , rfm_df)"
   ]
  },
  {
   "cell_type": "code",
   "execution_count": 35,
   "metadata": {},
   "outputs": [
    {
     "data": {
      "image/png": "[encoded data removed]",
      "text/plain": [
       "<Figure size 864x576 with 1 Axes>"
      ]
     },
     "metadata": {},
     "output_type": "display_data"
    }
   ],
   "source": [
    "plt.figure(figsize=(12,8))\n",
    "plt.title('Доля продаж по RFM сегментам', fontsize=14)\n",
    "labels = ['Уходящие клиенты', 'Спящие клиенты', 'Постоянные клиенты']\n",
    "sizes = [loosing_sum, sleeping_sum, regular_sum ]\n",
    "colors = ['slategrey', 'lightskyblue', 'aqua' ]\n",
    "plt.pie(sizes, colors=colors, autopct='%1.1f%%', shadow=False, startangle=140)\n",
    "plt.legend(labels, loc=\"best\")\n",
    "plt.axis('equal')\n",
    "plt.tight_layout()\n",
    "plt.show()"
   ]
  },
  {
   "cell_type": "markdown",
   "metadata": {},
   "source": [
    "Объем продаж по каждому подсегменту "
   ]
  },
  {
   "cell_type": "code",
   "execution_count": 36,
   "metadata": {},
   "outputs": [
    {
     "data": {
      "text/plain": [
       "<matplotlib.axes._subplots.AxesSubplot at 0x1a56c410f0>"
      ]
     },
     "execution_count": 36,
     "metadata": {},
     "output_type": "execute_result"
    },
    {
     "data": {
      "image/png": "[encoded data removed]",
      "text/plain": [
       "<Figure size 864x576 with 1 Axes>"
      ]
     },
     "metadata": {
      "needs_background": "light"
     },
     "output_type": "display_data"
    }
   ],
   "source": [
    "rfm_df[['rfm', 'sales']].groupby('rfm').sum().round(1).\\\n",
    "plot.barh(title='Объем продаж в каждом подсегменте, 1 ед. = 1 млрд. рублей, период 2 года')"
   ]
  },
  {
   "cell_type": "code",
   "execution_count": 37,
   "metadata": {},
   "outputs": [
    {
     "data": {
      "text/html": [
       "<style  type=\"text/css\" >\n",
       "    #T_2a5bb1d4_fbcb_11e9_be07_9cf387c17a2crow0_col0 {\n",
       "            width:  10em;\n",
       "             height:  80%;\n",
       "            background:  linear-gradient(90deg,#d65f5f 15.7%, transparent 15.7%);\n",
       "        }    #T_2a5bb1d4_fbcb_11e9_be07_9cf387c17a2crow1_col0 {\n",
       "            width:  10em;\n",
       "             height:  80%;\n",
       "            background:  linear-gradient(90deg,#d65f5f 4.6%, transparent 4.6%);\n",
       "        }    #T_2a5bb1d4_fbcb_11e9_be07_9cf387c17a2crow2_col0 {\n",
       "            width:  10em;\n",
       "             height:  80%;\n",
       "            background:  linear-gradient(90deg,#d65f5f 1.9%, transparent 1.9%);\n",
       "        }    #T_2a5bb1d4_fbcb_11e9_be07_9cf387c17a2crow3_col0 {\n",
       "            width:  10em;\n",
       "             height:  80%;\n",
       "            background:  linear-gradient(90deg,#d65f5f 5.0%, transparent 5.0%);\n",
       "        }    #T_2a5bb1d4_fbcb_11e9_be07_9cf387c17a2crow4_col0 {\n",
       "            width:  10em;\n",
       "             height:  80%;\n",
       "            background:  linear-gradient(90deg,#d65f5f 9.0%, transparent 9.0%);\n",
       "        }    #T_2a5bb1d4_fbcb_11e9_be07_9cf387c17a2crow5_col0 {\n",
       "            width:  10em;\n",
       "             height:  80%;\n",
       "            background:  linear-gradient(90deg,#d65f5f 5.5%, transparent 5.5%);\n",
       "        }    #T_2a5bb1d4_fbcb_11e9_be07_9cf387c17a2crow6_col0 {\n",
       "            width:  10em;\n",
       "             height:  80%;\n",
       "            background:  linear-gradient(90deg,#d65f5f 0.4%, transparent 0.4%);\n",
       "        }    #T_2a5bb1d4_fbcb_11e9_be07_9cf387c17a2crow7_col0 {\n",
       "            width:  10em;\n",
       "             height:  80%;\n",
       "            background:  linear-gradient(90deg,#d65f5f 8.3%, transparent 8.3%);\n",
       "        }    #T_2a5bb1d4_fbcb_11e9_be07_9cf387c17a2crow8_col0 {\n",
       "            width:  10em;\n",
       "             height:  80%;\n",
       "            background:  linear-gradient(90deg,#d65f5f 67.3%, transparent 67.3%);\n",
       "        }    #T_2a5bb1d4_fbcb_11e9_be07_9cf387c17a2crow9_col0 {\n",
       "            width:  10em;\n",
       "             height:  80%;\n",
       "            background:  linear-gradient(90deg,#d65f5f 10.4%, transparent 10.4%);\n",
       "        }    #T_2a5bb1d4_fbcb_11e9_be07_9cf387c17a2crow10_col0 {\n",
       "            width:  10em;\n",
       "             height:  80%;\n",
       "            background:  linear-gradient(90deg,#d65f5f 4.1%, transparent 4.1%);\n",
       "        }    #T_2a5bb1d4_fbcb_11e9_be07_9cf387c17a2crow11_col0 {\n",
       "            width:  10em;\n",
       "             height:  80%;\n",
       "            background:  linear-gradient(90deg,#d65f5f 1.9%, transparent 1.9%);\n",
       "        }    #T_2a5bb1d4_fbcb_11e9_be07_9cf387c17a2crow12_col0 {\n",
       "            width:  10em;\n",
       "             height:  80%;\n",
       "            background:  linear-gradient(90deg,#d65f5f 0.9%, transparent 0.9%);\n",
       "        }    #T_2a5bb1d4_fbcb_11e9_be07_9cf387c17a2crow13_col0 {\n",
       "            width:  10em;\n",
       "             height:  80%;\n",
       "            background:  linear-gradient(90deg,#d65f5f 1.4%, transparent 1.4%);\n",
       "        }    #T_2a5bb1d4_fbcb_11e9_be07_9cf387c17a2crow14_col0 {\n",
       "            width:  10em;\n",
       "             height:  80%;\n",
       "            background:  linear-gradient(90deg,#d65f5f 1.3%, transparent 1.3%);\n",
       "        }    #T_2a5bb1d4_fbcb_11e9_be07_9cf387c17a2crow15_col0 {\n",
       "            width:  10em;\n",
       "             height:  80%;\n",
       "        }    #T_2a5bb1d4_fbcb_11e9_be07_9cf387c17a2crow16_col0 {\n",
       "            width:  10em;\n",
       "             height:  80%;\n",
       "            background:  linear-gradient(90deg,#d65f5f 0.0%, transparent 0.0%);\n",
       "        }    #T_2a5bb1d4_fbcb_11e9_be07_9cf387c17a2crow17_col0 {\n",
       "            width:  10em;\n",
       "             height:  80%;\n",
       "            background:  linear-gradient(90deg,#d65f5f 0.1%, transparent 0.1%);\n",
       "        }    #T_2a5bb1d4_fbcb_11e9_be07_9cf387c17a2crow18_col0 {\n",
       "            width:  10em;\n",
       "             height:  80%;\n",
       "            background:  linear-gradient(90deg,#d65f5f 100.0%, transparent 100.0%);\n",
       "        }    #T_2a5bb1d4_fbcb_11e9_be07_9cf387c17a2crow19_col0 {\n",
       "            width:  10em;\n",
       "             height:  80%;\n",
       "            background:  linear-gradient(90deg,#d65f5f 42.4%, transparent 42.4%);\n",
       "        }    #T_2a5bb1d4_fbcb_11e9_be07_9cf387c17a2crow20_col0 {\n",
       "            width:  10em;\n",
       "             height:  80%;\n",
       "            background:  linear-gradient(90deg,#d65f5f 20.2%, transparent 20.2%);\n",
       "        }    #T_2a5bb1d4_fbcb_11e9_be07_9cf387c17a2crow21_col0 {\n",
       "            width:  10em;\n",
       "             height:  80%;\n",
       "            background:  linear-gradient(90deg,#d65f5f 24.9%, transparent 24.9%);\n",
       "        }    #T_2a5bb1d4_fbcb_11e9_be07_9cf387c17a2crow22_col0 {\n",
       "            width:  10em;\n",
       "             height:  80%;\n",
       "            background:  linear-gradient(90deg,#d65f5f 41.4%, transparent 41.4%);\n",
       "        }    #T_2a5bb1d4_fbcb_11e9_be07_9cf387c17a2crow23_col0 {\n",
       "            width:  10em;\n",
       "             height:  80%;\n",
       "            background:  linear-gradient(90deg,#d65f5f 29.8%, transparent 29.8%);\n",
       "        }    #T_2a5bb1d4_fbcb_11e9_be07_9cf387c17a2crow24_col0 {\n",
       "            width:  10em;\n",
       "             height:  80%;\n",
       "            background:  linear-gradient(90deg,#d65f5f 2.0%, transparent 2.0%);\n",
       "        }    #T_2a5bb1d4_fbcb_11e9_be07_9cf387c17a2crow25_col0 {\n",
       "            width:  10em;\n",
       "             height:  80%;\n",
       "            background:  linear-gradient(90deg,#d65f5f 24.4%, transparent 24.4%);\n",
       "        }    #T_2a5bb1d4_fbcb_11e9_be07_9cf387c17a2crow26_col0 {\n",
       "            width:  10em;\n",
       "             height:  80%;\n",
       "            background:  linear-gradient(90deg,#d65f5f 88.8%, transparent 88.8%);\n",
       "        }</style><table id=\"T_2a5bb1d4_fbcb_11e9_be07_9cf387c17a2c\" ><thead>    <tr>        <th class=\"blank level0\" ></th>        <th class=\"col_heading level0 col0\" >sales</th>    </tr>    <tr>        <th class=\"index_name level0\" >rfm</th>        <th class=\"blank\" ></th>    </tr></thead><tbody>\n",
       "                <tr>\n",
       "                        <th id=\"T_2a5bb1d4_fbcb_11e9_be07_9cf387c17a2clevel0_row0\" class=\"row_heading level0 row0\" >111</th>\n",
       "                        <td id=\"T_2a5bb1d4_fbcb_11e9_be07_9cf387c17a2crow0_col0\" class=\"data row0 col0\" >3.0737</td>\n",
       "            </tr>\n",
       "            <tr>\n",
       "                        <th id=\"T_2a5bb1d4_fbcb_11e9_be07_9cf387c17a2clevel0_row1\" class=\"row_heading level0 row1\" >112</th>\n",
       "                        <td id=\"T_2a5bb1d4_fbcb_11e9_be07_9cf387c17a2crow1_col0\" class=\"data row1 col0\" >0.898592</td>\n",
       "            </tr>\n",
       "            <tr>\n",
       "                        <th id=\"T_2a5bb1d4_fbcb_11e9_be07_9cf387c17a2clevel0_row2\" class=\"row_heading level0 row2\" >113</th>\n",
       "                        <td id=\"T_2a5bb1d4_fbcb_11e9_be07_9cf387c17a2crow2_col0\" class=\"data row2 col0\" >0.375868</td>\n",
       "            </tr>\n",
       "            <tr>\n",
       "                        <th id=\"T_2a5bb1d4_fbcb_11e9_be07_9cf387c17a2clevel0_row3\" class=\"row_heading level0 row3\" >121</th>\n",
       "                        <td id=\"T_2a5bb1d4_fbcb_11e9_be07_9cf387c17a2crow3_col0\" class=\"data row3 col0\" >0.971939</td>\n",
       "            </tr>\n",
       "            <tr>\n",
       "                        <th id=\"T_2a5bb1d4_fbcb_11e9_be07_9cf387c17a2clevel0_row4\" class=\"row_heading level0 row4\" >122</th>\n",
       "                        <td id=\"T_2a5bb1d4_fbcb_11e9_be07_9cf387c17a2crow4_col0\" class=\"data row4 col0\" >1.75428</td>\n",
       "            </tr>\n",
       "            <tr>\n",
       "                        <th id=\"T_2a5bb1d4_fbcb_11e9_be07_9cf387c17a2clevel0_row5\" class=\"row_heading level0 row5\" >123</th>\n",
       "                        <td id=\"T_2a5bb1d4_fbcb_11e9_be07_9cf387c17a2crow5_col0\" class=\"data row5 col0\" >1.08236</td>\n",
       "            </tr>\n",
       "            <tr>\n",
       "                        <th id=\"T_2a5bb1d4_fbcb_11e9_be07_9cf387c17a2clevel0_row6\" class=\"row_heading level0 row6\" >131</th>\n",
       "                        <td id=\"T_2a5bb1d4_fbcb_11e9_be07_9cf387c17a2crow6_col0\" class=\"data row6 col0\" >0.0811315</td>\n",
       "            </tr>\n",
       "            <tr>\n",
       "                        <th id=\"T_2a5bb1d4_fbcb_11e9_be07_9cf387c17a2clevel0_row7\" class=\"row_heading level0 row7\" >132</th>\n",
       "                        <td id=\"T_2a5bb1d4_fbcb_11e9_be07_9cf387c17a2crow7_col0\" class=\"data row7 col0\" >1.61407</td>\n",
       "            </tr>\n",
       "            <tr>\n",
       "                        <th id=\"T_2a5bb1d4_fbcb_11e9_be07_9cf387c17a2clevel0_row8\" class=\"row_heading level0 row8\" >133</th>\n",
       "                        <td id=\"T_2a5bb1d4_fbcb_11e9_be07_9cf387c17a2crow8_col0\" class=\"data row8 col0\" >13.1448</td>\n",
       "            </tr>\n",
       "            <tr>\n",
       "                        <th id=\"T_2a5bb1d4_fbcb_11e9_be07_9cf387c17a2clevel0_row9\" class=\"row_heading level0 row9\" >211</th>\n",
       "                        <td id=\"T_2a5bb1d4_fbcb_11e9_be07_9cf387c17a2crow9_col0\" class=\"data row9 col0\" >2.02367</td>\n",
       "            </tr>\n",
       "            <tr>\n",
       "                        <th id=\"T_2a5bb1d4_fbcb_11e9_be07_9cf387c17a2clevel0_row10\" class=\"row_heading level0 row10\" >212</th>\n",
       "                        <td id=\"T_2a5bb1d4_fbcb_11e9_be07_9cf387c17a2crow10_col0\" class=\"data row10 col0\" >0.800474</td>\n",
       "            </tr>\n",
       "            <tr>\n",
       "                        <th id=\"T_2a5bb1d4_fbcb_11e9_be07_9cf387c17a2clevel0_row11\" class=\"row_heading level0 row11\" >213</th>\n",
       "                        <td id=\"T_2a5bb1d4_fbcb_11e9_be07_9cf387c17a2crow11_col0\" class=\"data row11 col0\" >0.37269</td>\n",
       "            </tr>\n",
       "            <tr>\n",
       "                        <th id=\"T_2a5bb1d4_fbcb_11e9_be07_9cf387c17a2clevel0_row12\" class=\"row_heading level0 row12\" >221</th>\n",
       "                        <td id=\"T_2a5bb1d4_fbcb_11e9_be07_9cf387c17a2crow12_col0\" class=\"data row12 col0\" >0.171696</td>\n",
       "            </tr>\n",
       "            <tr>\n",
       "                        <th id=\"T_2a5bb1d4_fbcb_11e9_be07_9cf387c17a2clevel0_row13\" class=\"row_heading level0 row13\" >222</th>\n",
       "                        <td id=\"T_2a5bb1d4_fbcb_11e9_be07_9cf387c17a2crow13_col0\" class=\"data row13 col0\" >0.275067</td>\n",
       "            </tr>\n",
       "            <tr>\n",
       "                        <th id=\"T_2a5bb1d4_fbcb_11e9_be07_9cf387c17a2clevel0_row14\" class=\"row_heading level0 row14\" >223</th>\n",
       "                        <td id=\"T_2a5bb1d4_fbcb_11e9_be07_9cf387c17a2crow14_col0\" class=\"data row14 col0\" >0.259785</td>\n",
       "            </tr>\n",
       "            <tr>\n",
       "                        <th id=\"T_2a5bb1d4_fbcb_11e9_be07_9cf387c17a2clevel0_row15\" class=\"row_heading level0 row15\" >231</th>\n",
       "                        <td id=\"T_2a5bb1d4_fbcb_11e9_be07_9cf387c17a2crow15_col0\" class=\"data row15 col0\" >0.000376276</td>\n",
       "            </tr>\n",
       "            <tr>\n",
       "                        <th id=\"T_2a5bb1d4_fbcb_11e9_be07_9cf387c17a2clevel0_row16\" class=\"row_heading level0 row16\" >232</th>\n",
       "                        <td id=\"T_2a5bb1d4_fbcb_11e9_be07_9cf387c17a2crow16_col0\" class=\"data row16 col0\" >0.00407558</td>\n",
       "            </tr>\n",
       "            <tr>\n",
       "                        <th id=\"T_2a5bb1d4_fbcb_11e9_be07_9cf387c17a2clevel0_row17\" class=\"row_heading level0 row17\" >233</th>\n",
       "                        <td id=\"T_2a5bb1d4_fbcb_11e9_be07_9cf387c17a2crow17_col0\" class=\"data row17 col0\" >0.0272292</td>\n",
       "            </tr>\n",
       "            <tr>\n",
       "                        <th id=\"T_2a5bb1d4_fbcb_11e9_be07_9cf387c17a2clevel0_row18\" class=\"row_heading level0 row18\" >311</th>\n",
       "                        <td id=\"T_2a5bb1d4_fbcb_11e9_be07_9cf387c17a2crow18_col0\" class=\"data row18 col0\" >19.5391</td>\n",
       "            </tr>\n",
       "            <tr>\n",
       "                        <th id=\"T_2a5bb1d4_fbcb_11e9_be07_9cf387c17a2clevel0_row19\" class=\"row_heading level0 row19\" >312</th>\n",
       "                        <td id=\"T_2a5bb1d4_fbcb_11e9_be07_9cf387c17a2crow19_col0\" class=\"data row19 col0\" >8.28727</td>\n",
       "            </tr>\n",
       "            <tr>\n",
       "                        <th id=\"T_2a5bb1d4_fbcb_11e9_be07_9cf387c17a2clevel0_row20\" class=\"row_heading level0 row20\" >313</th>\n",
       "                        <td id=\"T_2a5bb1d4_fbcb_11e9_be07_9cf387c17a2crow20_col0\" class=\"data row20 col0\" >3.94625</td>\n",
       "            </tr>\n",
       "            <tr>\n",
       "                        <th id=\"T_2a5bb1d4_fbcb_11e9_be07_9cf387c17a2clevel0_row21\" class=\"row_heading level0 row21\" >321</th>\n",
       "                        <td id=\"T_2a5bb1d4_fbcb_11e9_be07_9cf387c17a2crow21_col0\" class=\"data row21 col0\" >4.87223</td>\n",
       "            </tr>\n",
       "            <tr>\n",
       "                        <th id=\"T_2a5bb1d4_fbcb_11e9_be07_9cf387c17a2clevel0_row22\" class=\"row_heading level0 row22\" >322</th>\n",
       "                        <td id=\"T_2a5bb1d4_fbcb_11e9_be07_9cf387c17a2crow22_col0\" class=\"data row22 col0\" >8.09865</td>\n",
       "            </tr>\n",
       "            <tr>\n",
       "                        <th id=\"T_2a5bb1d4_fbcb_11e9_be07_9cf387c17a2clevel0_row23\" class=\"row_heading level0 row23\" >323</th>\n",
       "                        <td id=\"T_2a5bb1d4_fbcb_11e9_be07_9cf387c17a2crow23_col0\" class=\"data row23 col0\" >5.83026</td>\n",
       "            </tr>\n",
       "            <tr>\n",
       "                        <th id=\"T_2a5bb1d4_fbcb_11e9_be07_9cf387c17a2clevel0_row24\" class=\"row_heading level0 row24\" >331</th>\n",
       "                        <td id=\"T_2a5bb1d4_fbcb_11e9_be07_9cf387c17a2crow24_col0\" class=\"data row24 col0\" >0.388497</td>\n",
       "            </tr>\n",
       "            <tr>\n",
       "                        <th id=\"T_2a5bb1d4_fbcb_11e9_be07_9cf387c17a2clevel0_row25\" class=\"row_heading level0 row25\" >332</th>\n",
       "                        <td id=\"T_2a5bb1d4_fbcb_11e9_be07_9cf387c17a2crow25_col0\" class=\"data row25 col0\" >4.76328</td>\n",
       "            </tr>\n",
       "            <tr>\n",
       "                        <th id=\"T_2a5bb1d4_fbcb_11e9_be07_9cf387c17a2clevel0_row26\" class=\"row_heading level0 row26\" >333</th>\n",
       "                        <td id=\"T_2a5bb1d4_fbcb_11e9_be07_9cf387c17a2crow26_col0\" class=\"data row26 col0\" >17.3427</td>\n",
       "            </tr>\n",
       "    </tbody></table>"
      ],
      "text/plain": [
       "<pandas.io.formats.style.Styler at 0x1a40beaa58>"
      ]
     },
     "execution_count": 37,
     "metadata": {},
     "output_type": "execute_result"
    }
   ],
   "source": [
    "#Доля каждого подсегмента в продажах \n",
    "rfm_df[['rfm', 'sales']].groupby('rfm').sum().round(0).apply(lambda x: 100 * x / float(x.sum())).style.bar()"
   ]
  },
  {
   "cell_type": "markdown",
   "metadata": {},
   "source": [
    "**Резюме**\n",
    "\n",
    "План действий для развития компаний можно разбить на 3 направления: \n",
    "\n",
    "1) лучших клиентов удерживаем <br>\n",
    "2) середнячков развиваем до лучших <br>\n",
    "3) уходящих и почти потерянных возвращаем <br>\n",
    "\n",
    "Например, доля VIP клиентов (333 и 233) составляет 17.6% от суммы продаж. Их можно отправлять особые предложения, предлагать программу лояльности, создавать персональные рекомендации для новых покупок с учетом их предпочтений. Возможно построить для них модель рекомендаций на основе их покупок.\n",
    "\n",
    "Для новичков с маленьким чеком, их доля составляет 19,5%, должна быть стратегия перехода на более высокий. Возможно стоит проанализировать профиль текущих VIP клиентов и спрогнозировать, кто из текущих новичков наиболее вероятно перейдет в категорию VIP. Исходя из этого уже дальше строить коммуникацию.  \n",
    "\n",
    "Есть большой потенциал среди уходящего сегмента 133, который составляет 13.14%. Почему клиенты не покупают дальше? Это требует дополнительных исследований, качественных инсайтов и личных интервью. Это связано с тем, что нет ассортимента товаров для их детей? Если да, то какая должна быть стратегия компании для такой аудитории. Возможно стоит подключать партнерскую программу.\n",
    "\n",
    "В целом текущая база клиентов обладает хорошим потенциалом и большим ядром постоянных клиентов с высоким чеком. Это говорит о высокой лояльности клиентов, востребованности услуг интернет-магазина и сохранении тренда в росте продаж на следующий год. "
   ]
  },
  {
   "cell_type": "markdown",
   "metadata": {},
   "source": [
    "***Проверим корректность данных по количеству уникальных пользователей в сегментах и по сумме покупок***"
   ]
  },
  {
   "cell_type": "code",
   "execution_count": 41,
   "metadata": {},
   "outputs": [],
   "source": [
    "total_count_segment = (loosing_count + regular_count + sleeping_count)\n",
    "total_unique_df = df['user_id'].nunique()\n",
    "total_sum_segment = (loosing_sum + regular_sum + sleeping_sum).round(0)\n",
    "total_sum_df = df['sales'].sum().round(0)"
   ]
  },
  {
   "cell_type": "code",
   "execution_count": 39,
   "metadata": {},
   "outputs": [
    {
     "name": "stdout",
     "output_type": "stream",
     "text": [
      "Количество уникальных пользователей = 1015110. Количество пользователей всех сегментов = 1015110\n"
     ]
    }
   ],
   "source": [
    "print (f'Количество уникальных пользователей = {total_unique_df}. Количество пользователей всех сегментов = {total_count_segment}')"
   ]
  },
  {
   "cell_type": "code",
   "execution_count": 42,
   "metadata": {},
   "outputs": [
    {
     "name": "stdout",
     "output_type": "stream",
     "text": [
      "Сумма покупок в изначальной базе = 4536828767.0. Сумма покупок во всех сегментов = 4536828767.0\n"
     ]
    }
   ],
   "source": [
    "print (f'Сумма покупок в изначальной базе = {total_sum_df}. Сумма покупок во всех сегментов = {total_sum_segment}')"
   ]
  },
  {
   "cell_type": "markdown",
   "metadata": {},
   "source": [
    "Расхождений нет."
   ]
  },
  {
   "cell_type": "code",
   "execution_count": null,
   "metadata": {},
   "outputs": [],
   "source": []
  }
 ],
 "metadata": {
  "kernelspec": {
   "display_name": "Python 3",
   "language": "python",
   "name": "python3"
  },
  "language_info": {
   "codemirror_mode": {
    "name": "ipython",
    "version": 3
   },
   "file_extension": ".py",
   "mimetype": "text/x-python",
   "name": "python",
   "nbconvert_exporter": "python",
   "pygments_lexer": "ipython3",
   "version": "3.7.3"
  }
 },
 "nbformat": 4,
 "nbformat_minor": 2
}

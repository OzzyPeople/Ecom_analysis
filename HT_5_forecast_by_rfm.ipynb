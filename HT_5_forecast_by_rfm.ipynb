{
 "cells": [
  {
   "cell_type": "markdown",
   "metadata": {},
   "source": [
    "Задача.\n",
    "\n",
    "Сделать прогноз продаж среднего чека по данным интернет-магазина детских товаров на 05.2017 по группам: \n",
    " \n",
    "A) Группа часто покупающих (4 и более покупок) и которые последний раз покупали не так давно.  \n",
    "B) Группа часто покупающих (4 и более покупок), но которые не покупали уже значительное время(больше 30 и меньше 60)\n",
    "C) Пользователи с 1 покупой за все время \n",
    " \n",
    "В итоге, сравнить прогноз с фактом на апрель 2017 и оценить грубо разлет по данным."
   ]
  },
  {
   "cell_type": "code",
   "execution_count": 124,
   "metadata": {},
   "outputs": [],
   "source": [
    "import pandas as pd\n",
    "from datetime import datetime\n",
    "import matplotlib\n",
    "\n",
    "import matplotlib.pyplot as plt\n",
    "import seaborn as sns\n",
    "%matplotlib inline\n",
    "\n",
    "import numpy as np"
   ]
  },
  {
   "cell_type": "code",
   "execution_count": 125,
   "metadata": {},
   "outputs": [],
   "source": [
    "matplotlib.rcParams['figure.figsize'] =  [12.0, 8.0]"
   ]
  },
  {
   "cell_type": "code",
   "execution_count": 126,
   "metadata": {},
   "outputs": [],
   "source": [
    "to_datetime = lambda d: datetime.strptime(d, '%d.%m.%Y')"
   ]
  },
  {
   "cell_type": "code",
   "execution_count": 127,
   "metadata": {},
   "outputs": [],
   "source": [
    "df_0 = pd.read_csv('orders_20190822.csv', sep=';', encoding='utf-8', decimal = ',', converters={'o_date': to_datetime})"
   ]
  },
  {
   "cell_type": "code",
   "execution_count": 128,
   "metadata": {},
   "outputs": [],
   "source": [
    "#изменим название price на более точное название sales\n",
    "df_0.columns = ['sales' if x=='price' else x for x in df_0.columns]"
   ]
  },
  {
   "cell_type": "code",
   "execution_count": 129,
   "metadata": {},
   "outputs": [],
   "source": [
    "#сделаем дату нашим индексом \n",
    "df_0 = df_0.set_index('o_date')"
   ]
  },
  {
   "cell_type": "markdown",
   "metadata": {},
   "source": [
    "**Поиск аномалий**"
   ]
  },
  {
   "cell_type": "code",
   "execution_count": 206,
   "metadata": {},
   "outputs": [
    {
     "data": {
      "text/plain": [
       "<matplotlib.axes._subplots.AxesSubplot at 0x1a3aa97198>"
      ]
     },
     "execution_count": 206,
     "metadata": {},
     "output_type": "execute_result"
    },
    {
     "data": {
      "image/png": "[encoded data removed]",
      "text/plain": [
       "<Figure size 864x576 with 1 Axes>"
      ]
     },
     "metadata": {
      "needs_background": "light"
     },
     "output_type": "display_data"
    }
   ],
   "source": [
    "df_0.boxplot(column=\"sales\")"
   ]
  },
  {
   "cell_type": "markdown",
   "metadata": {},
   "source": [
    "Очевидно, что есть сильные аномалии по сумме закупок свыше 150000 рублей, которые не характерны для всей совокупности. Избавимся от этих выбросов, чтобы они не искажали результаты RFM анализа."
   ]
  },
  {
   "cell_type": "code",
   "execution_count": 207,
   "metadata": {},
   "outputs": [],
   "source": [
    "df = df_0.loc[(df_0['sales'] <=150000)]"
   ]
  },
  {
   "cell_type": "markdown",
   "metadata": {},
   "source": [
    "**Выделим тренировочную и тестовую выборку**"
   ]
  },
  {
   "cell_type": "code",
   "execution_count": 208,
   "metadata": {},
   "outputs": [],
   "source": [
    "train = df[:'2017-04-30'] "
   ]
  },
  {
   "cell_type": "code",
   "execution_count": 209,
   "metadata": {},
   "outputs": [],
   "source": [
    "test= df['2017-05-01':'2017-05-31']"
   ]
  },
  {
   "cell_type": "markdown",
   "metadata": {},
   "source": [
    "***Recency - расчет давности покупок***"
   ]
  },
  {
   "cell_type": "code",
   "execution_count": 210,
   "metadata": {},
   "outputs": [],
   "source": [
    "rec_dict ={}\n",
    "latest_date = train.tail(1).index[0] #последняя дата покупки \n",
    "\n",
    "for i, v in train.iterrows():\n",
    "    difference_time = latest_date - i\n",
    "    user_id = v['user_id']\n",
    "    \n",
    "    if difference_time.days <=30:\n",
    "        rec_dict[user_id] = 1\n",
    "    if (difference_time.days >30 and difference_time.days <=60 and rec_dict.get(user_id)==None):\n",
    "        rec_dict[user_id] = 2\n",
    "    elif (difference_time.days >60 and rec_dict.get(user_id)==None):\n",
    "        rec_dict[user_id] = 3"
   ]
  },
  {
   "cell_type": "markdown",
   "metadata": {},
   "source": [
    "***Frequency - расчет количествы покупок на одного клиента или их частоты***"
   ]
  },
  {
   "cell_type": "code",
   "execution_count": 211,
   "metadata": {},
   "outputs": [],
   "source": [
    "rfm_df_count = train[['user_id', 'sales']].groupby('user_id').count().reset_index()"
   ]
  },
  {
   "cell_type": "code",
   "execution_count": 212,
   "metadata": {},
   "outputs": [],
   "source": [
    "freq_dict = {} #количество всех покупок по каждому уникальному пользователю \n",
    "for i, v in rfm_df_count.iterrows():\n",
    "    user_id = v['user_id'] \n",
    "    count_user = v['sales'] \n",
    "    if count_user ==1:\n",
    "        freq_dict[user_id ] = '1'\n",
    "    elif (count_user > 1 and count_user  <4):\n",
    "        freq_dict[user_id ] = '2'\n",
    "    else:\n",
    "        freq_dict[user_id ] = '3'"
   ]
  },
  {
   "cell_type": "code",
   "execution_count": 213,
   "metadata": {},
   "outputs": [],
   "source": [
    "rfm_df = train[['user_id', 'sales']].groupby('user_id').sum().reset_index()"
   ]
  },
  {
   "cell_type": "code",
   "execution_count": 214,
   "metadata": {},
   "outputs": [],
   "source": [
    "#Добавляем колонки monetary, recency, frequency в новый dataframe\n",
    "rfm_df['recency'] = rfm_df['user_id'].map(rec_dict)\n",
    "rfm_df['freq'] = rfm_df['user_id'].map(freq_dict)"
   ]
  },
  {
   "cell_type": "code",
   "execution_count": 215,
   "metadata": {},
   "outputs": [],
   "source": [
    "#Соединяем комбинации RFM в отдельный столбец\n",
    "rfm_df['rf'] = rfm_df.recency.astype(str) + rfm_df.freq"
   ]
  },
  {
   "cell_type": "code",
   "execution_count": 216,
   "metadata": {},
   "outputs": [
    {
     "data": {
      "text/html": [
       "<div>\n",
       "<style scoped>\n",
       "    .dataframe tbody tr th:only-of-type {\n",
       "        vertical-align: middle;\n",
       "    }\n",
       "\n",
       "    .dataframe tbody tr th {\n",
       "        vertical-align: top;\n",
       "    }\n",
       "\n",
       "    .dataframe thead th {\n",
       "        text-align: right;\n",
       "    }\n",
       "</style>\n",
       "<table border=\"1\" class=\"dataframe\">\n",
       "  <thead>\n",
       "    <tr style=\"text-align: right;\">\n",
       "      <th></th>\n",
       "      <th>user_id</th>\n",
       "      <th>sales</th>\n",
       "      <th>recency</th>\n",
       "      <th>freq</th>\n",
       "      <th>rf</th>\n",
       "    </tr>\n",
       "  </thead>\n",
       "  <tbody>\n",
       "    <tr>\n",
       "      <th>0</th>\n",
       "      <td>0</td>\n",
       "      <td>494.2</td>\n",
       "      <td>3</td>\n",
       "      <td>1</td>\n",
       "      <td>31</td>\n",
       "    </tr>\n",
       "    <tr>\n",
       "      <th>1</th>\n",
       "      <td>1</td>\n",
       "      <td>2799.3</td>\n",
       "      <td>3</td>\n",
       "      <td>1</td>\n",
       "      <td>31</td>\n",
       "    </tr>\n",
       "    <tr>\n",
       "      <th>2</th>\n",
       "      <td>76</td>\n",
       "      <td>1248.1</td>\n",
       "      <td>3</td>\n",
       "      <td>1</td>\n",
       "      <td>31</td>\n",
       "    </tr>\n",
       "    <tr>\n",
       "      <th>3</th>\n",
       "      <td>90</td>\n",
       "      <td>1190.0</td>\n",
       "      <td>3</td>\n",
       "      <td>1</td>\n",
       "      <td>31</td>\n",
       "    </tr>\n",
       "    <tr>\n",
       "      <th>4</th>\n",
       "      <td>91</td>\n",
       "      <td>3868.9</td>\n",
       "      <td>3</td>\n",
       "      <td>2</td>\n",
       "      <td>32</td>\n",
       "    </tr>\n",
       "  </tbody>\n",
       "</table>\n",
       "</div>"
      ],
      "text/plain": [
       "   user_id   sales  recency freq  rf\n",
       "0        0   494.2        3    1  31\n",
       "1        1  2799.3        3    1  31\n",
       "2       76  1248.1        3    1  31\n",
       "3       90  1190.0        3    1  31\n",
       "4       91  3868.9        3    2  32"
      ]
     },
     "execution_count": 216,
     "metadata": {},
     "output_type": "execute_result"
    }
   ],
   "source": [
    "rfm_df.head()"
   ]
  },
  {
   "cell_type": "markdown",
   "metadata": {},
   "source": [
    "**Первая группа = 32**\n",
    "\n",
    "Группа часто покупающих (4 и более покупок) и которые последний раз покупали не так давно. \n",
    "\n",
    "**Вторая группа = 23**\n",
    "\n",
    "Группа часто покупающих, но которые не покупали уже значительное время\n",
    "\n",
    "**Третья группа = 1**\n",
    "\n",
    "Одна покупка за все время "
   ]
  },
  {
   "cell_type": "code",
   "execution_count": 139,
   "metadata": {},
   "outputs": [],
   "source": [
    "#Найдем id пользователей по каждой группе"
   ]
  },
  {
   "cell_type": "code",
   "execution_count": 300,
   "metadata": {},
   "outputs": [],
   "source": [
    "group_1 = rfm_df['user_id'].loc[(rfm_df['rf']=='32')].values\n",
    "group_2 = rfm_df['user_id'].loc[(rfm_df['rf']=='23')].values\n",
    "group_3 = rfm_df['user_id'].loc[(rfm_df['freq']=='1')].values"
   ]
  },
  {
   "cell_type": "code",
   "execution_count": 141,
   "metadata": {},
   "outputs": [],
   "source": [
    "#Возьмем объем продаж по найденным id пользователей по каждой группе "
   ]
  },
  {
   "cell_type": "code",
   "execution_count": 302,
   "metadata": {},
   "outputs": [
    {
     "data": {
      "text/plain": [
       "<matplotlib.axes._subplots.AxesSubplot at 0x1a2e71e630>"
      ]
     },
     "execution_count": 302,
     "metadata": {},
     "output_type": "execute_result"
    },
    {
     "data": {
      "image/png": "[encoded data removed]",
      "text/plain": [
       "<Figure size 864x576 with 1 Axes>"
      ]
     },
     "metadata": {
      "needs_background": "light"
     },
     "output_type": "display_data"
    }
   ],
   "source": [
    "train_group_1 = train['sales'].loc[train['user_id'].isin(group_1)] \n",
    "train_group_1 = train_group_1.resample('M').mean()\n",
    "train_group_1.plot()"
   ]
  },
  {
   "cell_type": "code",
   "execution_count": 303,
   "metadata": {},
   "outputs": [
    {
     "data": {
      "text/plain": [
       "o_date\n",
       "2017-03-31    3099.410061\n",
       "Freq: M, Name: sales, dtype: float64"
      ]
     },
     "execution_count": 303,
     "metadata": {},
     "output_type": "execute_result"
    }
   ],
   "source": [
    "train_group_2= train['sales'].loc[train['user_id'].isin(group_2)]\n",
    "train_group_2=train_group_2.resample('M').mean()\n",
    "train_group_2"
   ]
  },
  {
   "cell_type": "code",
   "execution_count": 304,
   "metadata": {},
   "outputs": [
    {
     "data": {
      "image/png": "[encoded data removed]",
      "text/plain": [
       "<Figure size 864x576 with 1 Axes>"
      ]
     },
     "metadata": {
      "needs_background": "light"
     },
     "output_type": "display_data"
    }
   ],
   "source": [
    "train_group_3 = train['sales'].loc[train['user_id'].isin(group_3)]\n",
    "train_group_3 = train_group_3 .resample('M').mean()\n",
    "train_group_3.plot()\n",
    "plt.show()"
   ]
  },
  {
   "cell_type": "markdown",
   "metadata": {},
   "source": [
    "Выделим тестовые выборки для каждой группы"
   ]
  },
  {
   "cell_type": "code",
   "execution_count": 307,
   "metadata": {},
   "outputs": [],
   "source": [
    "test_group_1 = test['sales'].loc[test['user_id'].isin(group_1)]\n",
    "test_group_2= test['sales'].loc[test['user_id'].isin(group_2)]\n",
    "test_group_3 = test['sales'].loc[test['user_id'].isin(group_3)] "
   ]
  },
  {
   "cell_type": "code",
   "execution_count": 308,
   "metadata": {},
   "outputs": [
    {
     "data": {
      "text/plain": [
       "(5181, 37, 7925)"
      ]
     },
     "execution_count": 308,
     "metadata": {},
     "output_type": "execute_result"
    }
   ],
   "source": [
    "len(test_group_1), len(test_group_2), len(test_group_3)"
   ]
  },
  {
   "cell_type": "markdown",
   "metadata": {},
   "source": [
    "**Прогноз продаж среднего чека на 1 пользователя по каждой группе**"
   ]
  },
  {
   "cell_type": "markdown",
   "metadata": {},
   "source": [
    "Для прогноза продаж будем использовать метод скользящей средней. "
   ]
  },
  {
   "cell_type": "markdown",
   "metadata": {},
   "source": [
    "**Группа 1 - часто покупающих (4 и более покупок) и которые последний раз покупали не так давно.**"
   ]
  },
  {
   "cell_type": "code",
   "execution_count": 309,
   "metadata": {},
   "outputs": [],
   "source": [
    "#Возьмем данные с конца июля 2016 для скользящего окна\n",
    "rolling_window = len(train_group_1[6:])"
   ]
  },
  {
   "cell_type": "code",
   "execution_count": 359,
   "metadata": {},
   "outputs": [],
   "source": [
    "train_mean_forcast_g1 = train_group_1.rolling(rolling_window).mean().iloc[-1].round(1)"
   ]
  },
  {
   "cell_type": "code",
   "execution_count": 326,
   "metadata": {},
   "outputs": [],
   "source": [
    "diff_group_1 = test_group_1.mean() - train_mean_forcast_g1 "
   ]
  },
  {
   "cell_type": "code",
   "execution_count": 327,
   "metadata": {},
   "outputs": [
    {
     "data": {
      "text/plain": [
       "-169.03640939576144"
      ]
     },
     "execution_count": 327,
     "metadata": {},
     "output_type": "execute_result"
    }
   ],
   "source": [
    "diff_group_1"
   ]
  },
  {
   "cell_type": "markdown",
   "metadata": {},
   "source": [
    "**Группа 2 - часто покупающих, но которые не покупали уже значительное время**"
   ]
  },
  {
   "cell_type": "code",
   "execution_count": 322,
   "metadata": {},
   "outputs": [
    {
     "data": {
      "text/plain": [
       "1"
      ]
     },
     "execution_count": 322,
     "metadata": {},
     "output_type": "execute_result"
    }
   ],
   "source": [
    "len(train_group_2)"
   ]
  },
  {
   "cell_type": "code",
   "execution_count": 358,
   "metadata": {},
   "outputs": [],
   "source": [
    "train_mean_forcast_g2 = train_group_2[0].round(1)"
   ]
  },
  {
   "cell_type": "markdown",
   "metadata": {},
   "source": [
    "Так как у нас всего 1 наблюдение в этой группе, то мы предпологаем, что среднее значение за прошлый период, будет равно в будущем"
   ]
  },
  {
   "cell_type": "code",
   "execution_count": 335,
   "metadata": {},
   "outputs": [],
   "source": [
    "diff_group_2 = test_group_2.mean() - train_mean_forcast_g2"
   ]
  },
  {
   "cell_type": "code",
   "execution_count": 336,
   "metadata": {},
   "outputs": [
    {
     "data": {
      "text/plain": [
       "-908.2776285431869"
      ]
     },
     "execution_count": 336,
     "metadata": {},
     "output_type": "execute_result"
    }
   ],
   "source": [
    "diff_group_2"
   ]
  },
  {
   "cell_type": "markdown",
   "metadata": {},
   "source": [
    "**Группа 3 - Одна покупка за все время**"
   ]
  },
  {
   "cell_type": "code",
   "execution_count": 331,
   "metadata": {},
   "outputs": [],
   "source": [
    "#Возьмем данные с конца июля 2016 для скользящего окна\n",
    "rolling_window3 = len(train_group_3[6:])"
   ]
  },
  {
   "cell_type": "code",
   "execution_count": 356,
   "metadata": {},
   "outputs": [],
   "source": [
    "train_mean_forcast_g3 = train_group_3.rolling(rolling_window).mean().iloc[-1].round(1)"
   ]
  },
  {
   "cell_type": "code",
   "execution_count": 333,
   "metadata": {},
   "outputs": [],
   "source": [
    "diff_group_3 = test_group_3.mean() - train_mean_forcast_g3 "
   ]
  },
  {
   "cell_type": "code",
   "execution_count": 369,
   "metadata": {},
   "outputs": [
    {
     "data": {
      "image/png": "[encoded data removed]",
      "text/plain": [
       "<Figure size 864x576 with 1 Axes>"
      ]
     },
     "metadata": {
      "needs_background": "light"
     },
     "output_type": "display_data"
    }
   ],
   "source": [
    "labels = ['Группа 1 = RF 32', 'Группа 2= RF 23', 'Группа 3 = F1']\n",
    "train_means = [train_mean_forcast_g1, train_mean_forcast_g2, train_mean_forcast_g3]\n",
    "test_means = [round(test_group_1.mean(),1), round(test_group_2.mean(),1), round(test_group_3.mean(),1)]\n",
    "\n",
    "x = np.arange(len(labels))  # the label locations\n",
    "width = 0.35  # the width of the bars\n",
    "\n",
    "fig, ax = plt.subplots()\n",
    "rects1 = ax.bar(x - width/2, train_means, width, label='Прогноз')\n",
    "rects2 = ax.bar(x + width/2, test_means, width, label='Факт')\n",
    "\n",
    "# Добавим название и легенду\n",
    "ax.set_ylabel('Среднией чек, рубли')\n",
    "ax.set_title('Прогноз среднего чека на 05.2017', fontsize = 15)\n",
    "ax.set_xticks(x)\n",
    "ax.set_xticklabels(labels)\n",
    "ax.legend()\n",
    "\n",
    "#Покажим значения каждого столбца \n",
    "def autolabel(rects):\n",
    "    for rect in rects:\n",
    "        height = rect.get_height()\n",
    "        ax.annotate('{}'.format(height),\n",
    "                    xy=(rect.get_x() + rect.get_width() / 2, height),\n",
    "                    xytext=(0, 3),  \n",
    "                    textcoords=\"offset points\",\n",
    "                    ha='center', va='bottom')\n",
    "\n",
    "autolabel(rects1)\n",
    "autolabel(rects2)\n",
    "fig.tight_layout()\n",
    "plt.show()"
   ]
  },
  {
   "cell_type": "markdown",
   "metadata": {},
   "source": [
    "**Резюме**\n",
    "\n",
    "По факту прогноз не сильно отличается. Дальше можно перейти к прознозу количества клиентов, чтобы можно было спрогнозировать объем продаж."
   ]
  },
  {
   "cell_type": "code",
   "execution_count": null,
   "metadata": {},
   "outputs": [],
   "source": []
  }
 ],
 "metadata": {
  "kernelspec": {
   "display_name": "Python 3",
   "language": "python",
   "name": "python3"
  },
  "language_info": {
   "codemirror_mode": {
    "name": "ipython",
    "version": 3
   },
   "file_extension": ".py",
   "mimetype": "text/x-python",
   "name": "python",
   "nbconvert_exporter": "python",
   "pygments_lexer": "ipython3",
   "version": "3.7.3"
  }
 },
 "nbformat": 4,
 "nbformat_minor": 2
}
